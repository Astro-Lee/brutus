{
 "cells": [
  {
   "cell_type": "markdown",
   "metadata": {},
   "source": [
    "# Generating an SED Grid"
   ]
  },
  {
   "cell_type": "markdown",
   "metadata": {},
   "source": [
    "This notebook generates a grid of stellar models based on the MIST isochrones. It buids on [`MINESweeper`](https://github.com/pacargile/MINESweeper). For the data files needed to generate these data, please contact [Phil Cargile](https://github.com/pacargile)."
   ]
  },
  {
   "cell_type": "code",
   "execution_count": 1,
   "metadata": {},
   "outputs": [],
   "source": [
    "# basic imports\n",
    "from __future__ import print_function\n",
    "import time"
   ]
  },
  {
   "cell_type": "code",
   "execution_count": 2,
   "metadata": {},
   "outputs": [],
   "source": [
    "# brutus imports\n",
    "import brutus\n",
    "from brutus import seds"
   ]
  },
  {
   "cell_type": "code",
   "execution_count": 3,
   "metadata": {},
   "outputs": [
    {
     "name": "stderr",
     "output_type": "stream",
     "text": [
      "Filters: ['Gaia_G_DR2Rev', 'Gaia_BP_DR2Rev', 'Gaia_RP_DR2Rev', 'SDSS_u', 'SDSS_g', 'SDSS_r', 'SDSS_i', 'SDSS_z', 'PS_g', 'PS_r', 'PS_i', 'PS_z', 'PS_y', 'DECam_u', 'DECam_g', 'DECam_r', 'DECam_i', 'DECam_z', 'DECam_Y', 'Tycho_B', 'Tycho_V', 'Bessell_U', 'Bessell_B', 'Bessell_V', 'Bessell_R', 'Bessell_I', '2MASS_J', '2MASS_H', '2MASS_Ks', 'UKIDSS_Z', 'UKIDSS_Y', 'UKIDSS_J', 'UKIDSS_H', 'UKIDSS_K', 'WISE_W1', 'WISE_W2', 'WISE_W3', 'WISE_W4', 'GALEX_NUV', 'GALEX_FUV', 'Hipparcos_Hp', 'Kepler_D51', 'Kepler_Kp', 'TESS']\n",
      "Constructing MIST library...done!\n",
      "Computing age weights for track (mini, feh)=(300.0, 0.5)        \n",
      "Initializing FastNN predictor...done!\n"
     ]
    }
   ],
   "source": [
    "# initialize the SED maker\n",
    "mist = seds.SEDmaker()  # default: all filters"
   ]
  },
  {
   "cell_type": "code",
   "execution_count": 5,
   "metadata": {},
   "outputs": [
    {
     "name": "stderr",
     "output_type": "stream",
     "text": [
      "Constructing grid 100.00% (924160/924160) [mini=10.000, eep=802.000, feh= 0.500]            "
     ]
    },
    {
     "name": "stdout",
     "output_type": "stream",
     "text": [
      "6586.306263446808\n"
     ]
    },
    {
     "name": "stderr",
     "output_type": "stream",
     "text": [
      "\n"
     ]
    }
   ],
   "source": [
    "# build the SED grid\n",
    "t1 = time.time()\n",
    "mist.make_grid()  # use default grid settings\n",
    "t2 = time.time()\n",
    "\n",
    "# print runtime\n",
    "print(t2-t1)"
   ]
  },
  {
   "cell_type": "code",
   "execution_count": 6,
   "metadata": {},
   "outputs": [],
   "source": [
    "# dump results to disk\n",
    "import h5py\n",
    "grid_vers = 'v5'  # version number\n",
    "with h5py.File(\"../data/grid_{}.h5\".format(grid_vers), \"w\") as out:\n",
    "    # labels used to generate the grid\n",
    "    labels = out.create_dataset(\"labels\", data=mist.grid_label[mist.grid_sel])\n",
    "    # parameters generated interpolating from the MIST isochrones\n",
    "    pars = out.create_dataset(\"parameters\", data=mist.grid_param[mist.grid_sel])\n",
    "    # SEDS generated from \n",
    "    seds = out.create_dataset(\"mag_coeffs\", data=mist.grid_sed[mist.grid_sel])"
   ]
  }
 ],
 "metadata": {
  "kernelspec": {
   "display_name": "Python 3",
   "language": "python",
   "name": "python3"
  },
  "language_info": {
   "codemirror_mode": {
    "name": "ipython",
    "version": 3
   },
   "file_extension": ".py",
   "mimetype": "text/x-python",
   "name": "python",
   "nbconvert_exporter": "python",
   "pygments_lexer": "ipython3",
   "version": "3.6.5"
  }
 },
 "nbformat": 4,
 "nbformat_minor": 2
}
