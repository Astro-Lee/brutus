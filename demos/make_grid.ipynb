{
 "cells": [
  {
   "cell_type": "markdown",
   "metadata": {},
   "source": [
    "# Generating an SED Grid"
   ]
  },
  {
   "cell_type": "markdown",
   "metadata": {},
   "source": [
    "This notebook generates a grid of stellar models based on the MIST isochrones. It is based on [`MINESweeper`](https://github.com/pacargile/MINESweeper). For the data files needed to generate these data, please contact [Phil Cargile](https://github.com/pacargile) and [Josh Speagle](https://github.com/joshspeagle)."
   ]
  },
  {
   "cell_type": "code",
   "execution_count": null,
   "metadata": {},
   "outputs": [],
   "source": [
    "import brutus\n",
    "from brutus import seds\n",
    "from brutus import filters"
   ]
  },
  {
   "cell_type": "code",
   "execution_count": null,
   "metadata": {},
   "outputs": [],
   "source": [
    "# initialize the SED maker\n",
    "mist = seds.SEDmaker(corrfile='../data/corr_mist_v1.txt')  # default: all filters"
   ]
  },
  {
   "cell_type": "code",
   "execution_count": null,
   "metadata": {},
   "outputs": [],
   "source": [
    "# build the SED grid\n",
    "mist.make_grid()  # use default grid settings"
   ]
  },
  {
   "cell_type": "code",
   "execution_count": null,
   "metadata": {},
   "outputs": [],
   "source": [
    "# dump results to disk\n",
    "import h5py\n",
    "grid_vers = 'v7'  # version number\n",
    "with h5py.File(\"../data/grid_mist_{}.h5\".format(grid_vers), \"w\") as out:\n",
    "    # labels used to generate the grid\n",
    "    labels = out.create_dataset(\"labels\", data=mist.grid_label[mist.grid_sel])\n",
    "    # parameters generated interpolating from the MIST isochrones\n",
    "    pars = out.create_dataset(\"parameters\", data=mist.grid_param[mist.grid_sel])\n",
    "    # SEDS generated from \n",
    "    seds = out.create_dataset(\"mag_coeffs\", data=mist.grid_sed[mist.grid_sel])"
   ]
  }
 ],
 "metadata": {
  "kernelspec": {
   "display_name": "Python 3",
   "language": "python",
   "name": "python3"
  },
  "language_info": {
   "codemirror_mode": {
    "name": "ipython",
    "version": 3
   },
   "file_extension": ".py",
   "mimetype": "text/x-python",
   "name": "python",
   "nbconvert_exporter": "python",
   "pygments_lexer": "ipython3",
   "version": "3.6.5"
  }
 },
 "nbformat": 4,
 "nbformat_minor": 2
}
