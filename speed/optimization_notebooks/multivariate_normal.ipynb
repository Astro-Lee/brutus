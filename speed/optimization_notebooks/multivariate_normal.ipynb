{
 "cells": [
  {
   "cell_type": "code",
   "execution_count": 1,
   "metadata": {},
   "outputs": [],
   "source": [
    "import numpy as np"
   ]
  },
  {
   "cell_type": "code",
   "execution_count": 2,
   "metadata": {},
   "outputs": [],
   "source": [
    "N = 10\n",
    "mean = np.random.rand(N, 3)\n",
    "_cov = np.array([[0.5, 0.2, -0.3], [0.2, 0.8, 0.2], [-0.3, 0.2, 0.8]])\n",
    "cov = np.array([_cov for _ in range(N)])"
   ]
  },
  {
   "cell_type": "code",
   "execution_count": 3,
   "metadata": {},
   "outputs": [
    {
     "name": "stdout",
     "output_type": "stream",
     "text": [
      "[0.84140893 0.44635624 0.17261834]\n",
      "[[ 0.5  0.2 -0.3]\n",
      " [ 0.2  0.8  0.2]\n",
      " [-0.3  0.2  0.8]]\n"
     ]
    }
   ],
   "source": [
    "for m, c in zip(mean, cov):\n",
    "    print(m)\n",
    "    print(c)\n",
    "    break"
   ]
  },
  {
   "cell_type": "code",
   "execution_count": 4,
   "metadata": {},
   "outputs": [],
   "source": [
    "def simple_mvr(mean, cov, size=1):\n",
    "    samples = np.transpose([np.random.multivariate_normal(m, c, size=size)\n",
    "                                         for m, c in zip(mean, cov)])\n",
    "    return samples"
   ]
  },
  {
   "cell_type": "code",
   "execution_count": 5,
   "metadata": {},
   "outputs": [],
   "source": [
    "def brutus_mvr(scale, av, rv, cov_sar, size=1):\n",
    "    s_mc, a_mc, r_mc = np.array([mvn(np.array([s, a, r]), c,\n",
    "                                         size=size)\n",
    "                                         for s, a, r, c in zip(scale, av, rv,\n",
    "                                                               cov_sar)], order='F').T\n",
    "    return s_mc, a_mc, r_mc"
   ]
  },
  {
   "cell_type": "code",
   "execution_count": 135,
   "metadata": {},
   "outputs": [],
   "source": [
    "brutus_samples = brutus_mvr(mean[:,0], mean[:,1], mean[:,2], cov, size=1000)"
   ]
  },
  {
   "cell_type": "code",
   "execution_count": 125,
   "metadata": {},
   "outputs": [
    {
     "name": "stdout",
     "output_type": "stream",
     "text": [
      "761 µs ± 23.2 µs per loop (mean ± std. dev. of 7 runs, 1000 loops each)\n"
     ]
    }
   ],
   "source": [
    "%%timeit\n",
    "brutus_s_mc, brutus_a_mc, brutus_r_mc = brutus_mvr(mean[:,0], mean[:,1], mean[:,2], cov)"
   ]
  },
  {
   "cell_type": "markdown",
   "metadata": {},
   "source": [
    "# Optimized Version"
   ]
  },
  {
   "cell_type": "code",
   "execution_count": 147,
   "metadata": {},
   "outputs": [],
   "source": [
    "def opt_mvr(mean, cov, size=1, eps=0.000001):\n",
    "    if len(np.shape(mean))==1:\n",
    "        return np.random.multivariate_normal(mean, cov, size=size)\n",
    "    \n",
    "    N, d = np.shape(mean)\n",
    "    K = cov + eps * np.full((N, d, d), np.identity(d))\n",
    "    L = np.linalg.cholesky(K)\n",
    "    \n",
    "    u = np.random.normal(loc=0, scale=1, size=d*size*N).reshape(N, d, size)\n",
    "\n",
    "    ans = np.repeat(mean[:, :, np.newaxis], size, axis=2) + np.matmul(L, u)\n",
    "    \n",
    "    ans = np.swapaxes(ans, 0, 1)\n",
    "    ans = np.swapaxes(ans, 1, 2)\n",
    "    return ans\n",
    "    "
   ]
  },
  {
   "cell_type": "code",
   "execution_count": null,
   "metadata": {},
   "outputs": [],
   "source": [
    "L has shape (N, d, d)\n",
    "u has shape (N, d, size)\n"
   ]
  },
  {
   "cell_type": "code",
   "execution_count": 126,
   "metadata": {},
   "outputs": [
    {
     "name": "stdout",
     "output_type": "stream",
     "text": [
      "105 µs ± 2.67 µs per loop (mean ± std. dev. of 7 runs, 10000 loops each)\n"
     ]
    }
   ],
   "source": [
    "%%timeit\n",
    "samples = opt_mvr(mean, cov, size=100)"
   ]
  },
  {
   "cell_type": "code",
   "execution_count": 136,
   "metadata": {},
   "outputs": [],
   "source": [
    "samples = opt_mvr(mean, cov, size=1000)"
   ]
  },
  {
   "cell_type": "code",
   "execution_count": 109,
   "metadata": {},
   "outputs": [
    {
     "data": {
      "text/plain": [
       "(3, 10, 100000)"
      ]
     },
     "execution_count": 109,
     "metadata": {},
     "output_type": "execute_result"
    }
   ],
   "source": [
    "np.shape(samples)"
   ]
  },
  {
   "cell_type": "code",
   "execution_count": 108,
   "metadata": {},
   "outputs": [
    {
     "name": "stdout",
     "output_type": "stream",
     "text": [
      "(3, 10, 100000)\n"
     ]
    }
   ],
   "source": [
    "print(np.shape(brutus_samples))"
   ]
  },
  {
   "cell_type": "code",
   "execution_count": 113,
   "metadata": {},
   "outputs": [],
   "source": [
    "import matplotlib.pyplot as plt"
   ]
  },
  {
   "cell_type": "code",
   "execution_count": 137,
   "metadata": {},
   "outputs": [],
   "source": [
    "x, y, z = samples"
   ]
  },
  {
   "cell_type": "code",
   "execution_count": 143,
   "metadata": {},
   "outputs": [
    {
     "data": {
      "text/plain": [
       "(-3, 3)"
      ]
     },
     "execution_count": 143,
     "metadata": {},
     "output_type": "execute_result"
    },
    {
     "data": {
      "image/png": "[encoded data removed]",
      "text/plain": [
       "<Figure size 432x288 with 1 Axes>"
      ]
     },
     "metadata": {
      "needs_background": "light"
     },
     "output_type": "display_data"
    }
   ],
   "source": [
    "plt.scatter(x[:,0], y[:,0], s=1)\n",
    "plt.xlim(-2, 4)\n",
    "plt.ylim(-3, 3)"
   ]
  },
  {
   "cell_type": "code",
   "execution_count": 141,
   "metadata": {},
   "outputs": [],
   "source": [
    "bx, by, bz = brutus_samples"
   ]
  },
  {
   "cell_type": "code",
   "execution_count": 144,
   "metadata": {},
   "outputs": [
    {
     "data": {
      "text/plain": [
       "(-3, 3)"
      ]
     },
     "execution_count": 144,
     "metadata": {},
     "output_type": "execute_result"
    },
    {
     "data": {
      "image/png": "[encoded data removed]",
      "text/plain": [
       "<Figure size 432x288 with 1 Axes>"
      ]
     },
     "metadata": {
      "needs_background": "light"
     },
     "output_type": "display_data"
    }
   ],
   "source": [
    "plt.scatter(bx[:,0], by[:,0], s=1)\n",
    "plt.xlim(-2, 4)\n",
    "plt.ylim(-3, 3)"
   ]
  },
  {
   "cell_type": "code",
   "execution_count": 149,
   "metadata": {},
   "outputs": [
    {
     "data": {
      "text/plain": [
       "array([[ 2.317769  ,  6.38221485],\n",
       "       [-0.41056423,  1.54501298],\n",
       "       [ 2.59486015,  4.51072699],\n",
       "       [ 2.52295861,  2.55714509],\n",
       "       [ 1.75130276,  1.061852  ],\n",
       "       [ 1.19957365,  3.23472426],\n",
       "       [ 3.82303102,  4.33425148],\n",
       "       [-0.50572161,  1.36873903],\n",
       "       [ 2.01457916,  1.97360024],\n",
       "       [ 2.09738038,  1.20901746]])"
      ]
     },
     "execution_count": 149,
     "metadata": {},
     "output_type": "execute_result"
    }
   ],
   "source": [
    "opt_mvr([2, 3], [[2, 1], [1, 2]], 10)"
   ]
  },
  {
   "cell_type": "code",
   "execution_count": null,
   "metadata": {},
   "outputs": [],
   "source": []
  }
 ],
 "metadata": {
  "kernelspec": {
   "display_name": "Python 3",
   "language": "python",
   "name": "python3"
  },
  "language_info": {
   "codemirror_mode": {
    "name": "ipython",
    "version": 3
   },
   "file_extension": ".py",
   "mimetype": "text/x-python",
   "name": "python",
   "nbconvert_exporter": "python",
   "pygments_lexer": "ipython3",
   "version": "3.7.6"
  }
 },
 "nbformat": 4,
 "nbformat_minor": 4
}
