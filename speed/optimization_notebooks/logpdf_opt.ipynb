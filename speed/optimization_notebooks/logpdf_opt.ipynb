{
 "cells": [
  {
   "cell_type": "markdown",
   "metadata": {},
   "source": [
    "# Logpdf optimization"
   ]
  },
  {
   "cell_type": "code",
   "execution_count": 1,
   "metadata": {},
   "outputs": [],
   "source": [
    "import numpy as np\n",
    "from scipy.stats import truncnorm\n",
    "from math import erf\n",
    "import matplotlib.pyplot as plt"
   ]
  },
  {
   "cell_type": "code",
   "execution_count": 2,
   "metadata": {},
   "outputs": [],
   "source": [
    "age, a, b, age_mean_pred, age_sigma_pred = np.load('truncnorm_dat.npy', allow_pickle=True)"
   ]
  },
  {
   "cell_type": "code",
   "execution_count": 3,
   "metadata": {},
   "outputs": [
    {
     "name": "stdout",
     "output_type": "stream",
     "text": [
      "0.08999387166766327 -1.2224857435210057 2.2275142564789947 4.889942974084023 4.0\n",
      "CPU times: user 1.07 s, sys: 15.7 ms, total: 1.09 s\n",
      "Wall time: 1.08 s\n"
     ]
    }
   ],
   "source": [
    "%%time\n",
    "print(age[0][0], a, b, age_mean_pred, age_sigma_pred)\n",
    "lnprior = truncnorm.logpdf(age, a, b, loc=age_mean_pred, scale=age_sigma_pred)"
   ]
  },
  {
   "cell_type": "code",
   "execution_count": 4,
   "metadata": {},
   "outputs": [
    {
     "name": "stdout",
     "output_type": "stream",
     "text": [
      "(50, 4470)\n"
     ]
    }
   ],
   "source": [
    "print(np.shape(age))"
   ]
  },
  {
   "cell_type": "code",
   "execution_count": 5,
   "metadata": {},
   "outputs": [],
   "source": [
    "def _truncnorm_pdf(x, a, b, loc=0.0, scale=1.0):\n",
    "    _a = scale*a + loc\n",
    "    _b = scale*b + loc\n",
    "    xi    = (x - loc) / scale\n",
    "    alpha = (_a - loc) / scale\n",
    "    beta  = (_b - loc) / scale\n",
    "    \n",
    "    phix = np.exp(-0.5 * xi**2) / np.sqrt(2.*np.pi)\n",
    "    Phia = 0.5 *(1+erf(alpha/np.sqrt(2)))\n",
    "    Phib = 0.5 *(1+erf(beta/np.sqrt(2)))\n",
    "\n",
    "    ans = phix / (scale*(Phib-Phia))\n",
    "   \n",
    "    if not isinstance(x, (float,int)):\n",
    "        keys = np.logical_or(x < _a, x > _b)\n",
    "        ans[keys] = 0\n",
    "    else:\n",
    "        if x < _a or x > _b:\n",
    "            ans = 0\n",
    "    \n",
    "    return ans"
   ]
  },
  {
   "cell_type": "code",
   "execution_count": 6,
   "metadata": {},
   "outputs": [],
   "source": [
    "def _truncnorm_logpdf(x, a, b, loc=0.0, scale=1.0):\n",
    "    _a = scale*a + loc\n",
    "    _b = scale*b + loc\n",
    "    xi    = (x - loc) / scale\n",
    "    alpha = (_a - loc) / scale\n",
    "    beta  = (_b - loc) / scale\n",
    "    \n",
    "    lnphi = -np.log(np.sqrt(2*np.pi)) - 0.5 * np.square(xi)\n",
    "    lndenom = np.log(scale/2.0) + np.log(erf(beta/np.sqrt(2)) - erf(alpha/np.sqrt(2)))\n",
    "    \n",
    "    ans = np.subtract(lnphi, lndenom)\n",
    "    \n",
    "#     about 50 microseconds faster if the float check is not used\n",
    "#     (tested on 50*4470 x array)\n",
    "#     keys = np.logical_or(x < a, x > b)\n",
    "#     ans[keys] = -np.inf\n",
    "    \n",
    "    if not isinstance(x, (float,int)):\n",
    "        keys = np.logical_or(x < _a, x > _b)\n",
    "        ans[keys] = -np.inf\n",
    "    else:\n",
    "        if x < _a or x > _b:\n",
    "            ans = -np.inf\n",
    "    \n",
    "    return ans"
   ]
  },
  {
   "cell_type": "code",
   "execution_count": 7,
   "metadata": {},
   "outputs": [
    {
     "name": "stdout",
     "output_type": "stream",
     "text": [
      "0.08999387166766327 -1.2224857435210057 2.2275142564789947 4.889942974084023 4.0\n",
      "CPU times: user 3.56 ms, sys: 2.16 ms, total: 5.72 ms\n",
      "Wall time: 3.75 ms\n"
     ]
    }
   ],
   "source": [
    "%%time\n",
    "print(age[0][0], a, b, age_mean_pred, age_sigma_pred)\n",
    "my_lnprior = _truncnorm_logpdf(age, a, b, loc=age_mean_pred, scale=age_sigma_pred)"
   ]
  },
  {
   "cell_type": "code",
   "execution_count": 8,
   "metadata": {},
   "outputs": [
    {
     "name": "stdout",
     "output_type": "stream",
     "text": [
      "1.18 ms ± 34.2 µs per loop (mean ± std. dev. of 7 runs, 1000 loops each)\n"
     ]
    }
   ],
   "source": [
    "%%timeit\n",
    "my_lnprior = _truncnorm_logpdf(age, a, b, loc=age_mean_pred, scale=age_sigma_pred)"
   ]
  },
  {
   "cell_type": "code",
   "execution_count": 9,
   "metadata": {},
   "outputs": [
    {
     "data": {
      "text/plain": [
       "array([-2.89314978, -2.89296859, -2.89291747, ..., -2.20104886,\n",
       "       -2.33807454, -2.36428208])"
      ]
     },
     "execution_count": 9,
     "metadata": {},
     "output_type": "execute_result"
    }
   ],
   "source": [
    "lnprior[0]"
   ]
  },
  {
   "cell_type": "code",
   "execution_count": 11,
   "metadata": {},
   "outputs": [
    {
     "data": {
      "text/plain": [
       "array([-2.89314978, -2.89296859, -2.89291747, ..., -2.20104886,\n",
       "       -2.33807454, -2.36428208])"
      ]
     },
     "execution_count": 11,
     "metadata": {},
     "output_type": "execute_result"
    }
   ],
   "source": [
    "my_lnprior[0]"
   ]
  },
  {
   "cell_type": "code",
   "execution_count": 208,
   "metadata": {},
   "outputs": [
    {
     "data": {
      "text/plain": [
       "-2.8931497804402255"
      ]
     },
     "execution_count": 208,
     "metadata": {},
     "output_type": "execute_result"
    }
   ],
   "source": [
    "_truncnorm_logpdf(age[0][0], a, b, age_mean_pred, age_sigma_pred)"
   ]
  },
  {
   "cell_type": "code",
   "execution_count": 38,
   "metadata": {},
   "outputs": [
    {
     "data": {
      "text/plain": [
       "-1.2224857435210057"
      ]
     },
     "execution_count": 38,
     "metadata": {},
     "output_type": "execute_result"
    }
   ],
   "source": [
    "a"
   ]
  },
  {
   "cell_type": "code",
   "execution_count": 39,
   "metadata": {},
   "outputs": [
    {
     "data": {
      "text/plain": [
       "2.2275142564789947"
      ]
     },
     "execution_count": 39,
     "metadata": {},
     "output_type": "execute_result"
    }
   ],
   "source": [
    "b"
   ]
  },
  {
   "cell_type": "code",
   "execution_count": 86,
   "metadata": {},
   "outputs": [
    {
     "data": {
      "text/plain": [
       "0.7487554126589395"
      ]
     },
     "execution_count": 86,
     "metadata": {},
     "output_type": "execute_result"
    }
   ],
   "source": [
    "truncnorm.pdf(0, -1, 0.5)"
   ]
  },
  {
   "cell_type": "code",
   "execution_count": 88,
   "metadata": {},
   "outputs": [
    {
     "name": "stdout",
     "output_type": "stream",
     "text": [
      "0.15865525393145707 0.691462461274013\n"
     ]
    },
    {
     "data": {
      "text/plain": [
       "0.7487554126589397"
      ]
     },
     "execution_count": 88,
     "metadata": {},
     "output_type": "execute_result"
    }
   ],
   "source": [
    "_truncnorm_logpdf(0, -1, 0.5)"
   ]
  },
  {
   "cell_type": "code",
   "execution_count": 13,
   "metadata": {},
   "outputs": [
    {
     "data": {
      "text/plain": [
       "<matplotlib.legend.Legend at 0x136cf7b10>"
      ]
     },
     "execution_count": 13,
     "metadata": {},
     "output_type": "execute_result"
    },
    {
     "data": {
      "image/png": "[encoded data removed]",
      "text/plain": [
       "<Figure size 432x288 with 1 Axes>"
      ]
     },
     "metadata": {
      "needs_background": "light"
     },
     "output_type": "display_data"
    }
   ],
   "source": [
    "test_a = -2.4\n",
    "test_b = 0.5\n",
    "\n",
    "xlist = np.linspace(-6, 3, 100)\n",
    "my_pdf = _truncnorm_logpdf(xlist, test_a, test_b, scale=2)\n",
    "scipy_pdf = truncnorm.logpdf(xlist, test_a, test_b, scale=2)\n",
    "\n",
    "plt.plot(xlist, my_pdf, label='my truncnorm')\n",
    "plt.plot(xlist, scipy_pdf, label='scipy truncnorm')\n",
    "\n",
    "plt.xlabel('x')\n",
    "plt.ylabel('pdf')\n",
    "plt.legend(frameon=False)"
   ]
  },
  {
   "cell_type": "code",
   "execution_count": 104,
   "metadata": {},
   "outputs": [
    {
     "data": {
      "text/plain": [
       "1.0036229339495317"
      ]
     },
     "execution_count": 104,
     "metadata": {},
     "output_type": "execute_result"
    }
   ],
   "source": [
    "np.trapz(my_pdf, xlist)"
   ]
  },
  {
   "cell_type": "code",
   "execution_count": 122,
   "metadata": {},
   "outputs": [],
   "source": [
    "x = np.random.rand(int(1E6))\n",
    "loc = 0.2\n",
    "scale = 0.6"
   ]
  },
  {
   "cell_type": "code",
   "execution_count": 126,
   "metadata": {},
   "outputs": [
    {
     "name": "stdout",
     "output_type": "stream",
     "text": [
      "2.38 ms ± 79.9 µs per loop (mean ± std. dev. of 7 runs, 100 loops each)\n"
     ]
    }
   ],
   "source": [
    "%%timeit\n",
    "xt = np.subtract(x, loc) / scale"
   ]
  },
  {
   "cell_type": "code",
   "execution_count": 127,
   "metadata": {},
   "outputs": [
    {
     "name": "stdout",
     "output_type": "stream",
     "text": [
      "2.35 ms ± 106 µs per loop (mean ± std. dev. of 7 runs, 100 loops each)\n"
     ]
    }
   ],
   "source": [
    "%%timeit\n",
    "xt = (x-loc)/scale"
   ]
  },
  {
   "cell_type": "code",
   "execution_count": 161,
   "metadata": {},
   "outputs": [
    {
     "data": {
      "text/plain": [
       "-0.5572233869025465"
      ]
     },
     "execution_count": 161,
     "metadata": {},
     "output_type": "execute_result"
    }
   ],
   "source": [
    "truncnorm.logpdf(0.2, -1, 1)"
   ]
  },
  {
   "cell_type": "code",
   "execution_count": 162,
   "metadata": {},
   "outputs": [
    {
     "name": "stdout",
     "output_type": "stream",
     "text": [
      "0.2\n"
     ]
    },
    {
     "data": {
      "text/plain": [
       "-0.5572233869025466"
      ]
     },
     "execution_count": 162,
     "metadata": {},
     "output_type": "execute_result"
    }
   ],
   "source": [
    "_truncnorm_logpdf(0.2, -1, 1)"
   ]
  },
  {
   "cell_type": "code",
   "execution_count": 156,
   "metadata": {},
   "outputs": [
    {
     "data": {
      "text/plain": [
       "True"
      ]
     },
     "execution_count": 156,
     "metadata": {},
     "output_type": "execute_result"
    }
   ],
   "source": [
    "isinstance(0, (float, int))"
   ]
  },
  {
   "cell_type": "code",
   "execution_count": 179,
   "metadata": {},
   "outputs": [
    {
     "data": {
      "text/plain": [
       "0.0"
      ]
     },
     "execution_count": 179,
     "metadata": {},
     "output_type": "execute_result"
    }
   ],
   "source": [
    "truncnorm.pdf(age[0][0], a, b, loc=age_mean_pred)#, scale=age_sigma_pred)"
   ]
  },
  {
   "cell_type": "code",
   "execution_count": 182,
   "metadata": {},
   "outputs": [
    {
     "data": {
      "text/plain": [
       "0.0010214794015622637"
      ]
     },
     "execution_count": 182,
     "metadata": {},
     "output_type": "execute_result"
    }
   ],
   "source": [
    "_truncnorm_pdf(age[0][0], a, b, loc=age_mean_pred)#, scale=age_sigma_pred)"
   ]
  },
  {
   "cell_type": "code",
   "execution_count": 174,
   "metadata": {},
   "outputs": [
    {
     "data": {
      "text/plain": [
       "0.08999387166766327"
      ]
     },
     "execution_count": 174,
     "metadata": {},
     "output_type": "execute_result"
    }
   ],
   "source": [
    "age[0][0]"
   ]
  },
  {
   "cell_type": "code",
   "execution_count": 175,
   "metadata": {},
   "outputs": [
    {
     "data": {
      "text/plain": [
       "-1.2224857435210057"
      ]
     },
     "execution_count": 175,
     "metadata": {},
     "output_type": "execute_result"
    }
   ],
   "source": [
    "a"
   ]
  },
  {
   "cell_type": "code",
   "execution_count": 176,
   "metadata": {},
   "outputs": [
    {
     "data": {
      "text/plain": [
       "2.2275142564789947"
      ]
     },
     "execution_count": 176,
     "metadata": {},
     "output_type": "execute_result"
    }
   ],
   "source": [
    "b"
   ]
  },
  {
   "cell_type": "code",
   "execution_count": 177,
   "metadata": {},
   "outputs": [
    {
     "data": {
      "text/plain": [
       "4.889942974084023"
      ]
     },
     "execution_count": 177,
     "metadata": {},
     "output_type": "execute_result"
    }
   ],
   "source": [
    "age_mean_pred"
   ]
  },
  {
   "cell_type": "code",
   "execution_count": null,
   "metadata": {},
   "outputs": [],
   "source": []
  }
 ],
 "metadata": {
  "kernelspec": {
   "display_name": "Python 3",
   "language": "python",
   "name": "python3"
  },
  "language_info": {
   "codemirror_mode": {
    "name": "ipython",
    "version": 3
   },
   "file_extension": ".py",
   "mimetype": "text/x-python",
   "name": "python",
   "nbconvert_exporter": "python",
   "pygments_lexer": "ipython3",
   "version": "3.7.6"
  }
 },
 "nbformat": 4,
 "nbformat_minor": 4
}
