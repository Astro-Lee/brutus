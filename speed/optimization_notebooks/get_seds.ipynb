{
 "cells": [
  {
   "cell_type": "code",
   "execution_count": 1,
   "metadata": {},
   "outputs": [],
   "source": [
    "import numpy as np\n",
    "import time"
   ]
  },
  {
   "cell_type": "code",
   "execution_count": 4,
   "metadata": {},
   "outputs": [],
   "source": [
    "flux, tot_var, models, rvecs, drvecs, av_init, rv_init, mcoeffs,\\\n",
    "  mtol, init_thresh, mags, mags_var, avlim, av_gauss,\\\n",
    "   rvlim, rv_gauss = np.load('optimize_fit.npy', allow_pickle=True)"
   ]
  },
  {
   "cell_type": "code",
   "execution_count": 5,
   "metadata": {},
   "outputs": [],
   "source": [
    "def preprocess_get_seds(data, tot_var, models, rvecs, drvecs, av, rv, mag_coeffs,\n",
    "                  avlim=(0., 20.), av_gauss=(0., 1e6),\n",
    "                  rvlim=(1., 8.), rv_gauss=(3.32, 0.18),\n",
    "                  resid=None, tol=0.05, init_thresh=5e-3, stepsize=1.,\n",
    "                  mags=None, mags_var=None):\n",
    "    \"\"\"\n",
    "    Optimize the distance and reddening between the models and the data using\n",
    "    the gradient.\n",
    "\n",
    "    Parameters\n",
    "    ----------\n",
    "    data : `~numpy.ndarray` of shape `(Nfilt)`\n",
    "        Observed data values.\n",
    "\n",
    "    tot_var : `~numpy.ndarray` of shape `(Nmodel, Nfilt)`\n",
    "        Associated (Normal) errors on the observed values compared to the\n",
    "        models.\n",
    "\n",
    "    models : `~numpy.ndarray` of shape `(Nmodel, Nfilt)`\n",
    "        Model predictions.\n",
    "\n",
    "    rvecs : `~numpy.ndarray` of shape `(Nmodel, Nfilt)`\n",
    "        Associated model reddening vectors.\n",
    "\n",
    "    drvecs : `~numpy.ndarray` of shape `(Nmodel, Nfilt)`\n",
    "        Associated differential model reddening vectors.\n",
    "\n",
    "    av : `~numpy.ndarray` of shape `(Nmodel,)`\n",
    "        Av values of the models.\n",
    "\n",
    "    rv : `~numpy.ndarray` of shape `(Nmodel,)`\n",
    "        Rv values of the models.\n",
    "\n",
    "    mag_coeffs : `~numpy.ndarray` of shape `(Nmodel, Nfilt, 3)`\n",
    "        Magnitude coefficients used to compute reddened photometry for a given\n",
    "        model.\n",
    "\n",
    "    avlim : 2-tuple, optional\n",
    "        The lower and upper bound where the reddened photometry is reliable.\n",
    "        Default is `(0., 20.)`.\n",
    "\n",
    "    av_gauss : 2-tuple, optional\n",
    "        The mean and standard deviation of the Gaussian prior that is placed\n",
    "        on A(V). The default is `(0., 1e6)`, which is designed to be\n",
    "        essentially flat over `avlim`.\n",
    "\n",
    "    rvlim : 2-tuple, optional\n",
    "        The lower and upper bound where the reddening vector shape changes\n",
    "        are reliable. Default is `(1., 8.)`.\n",
    "\n",
    "    rv_gauss : 2-tuple, optional\n",
    "        The mean and standard deviation of the Gaussian prior that is placed\n",
    "        on R(V). The default is `(3.32, 0.18)` based on the results from\n",
    "        Schlafly et al. (2016).\n",
    "\n",
    "    resid : `~numpy.ndarray` of shape `(Nmodel, Nfilt)`\n",
    "        Residuals between the data and models.\n",
    "        If not provided, this will be computed.\n",
    "\n",
    "    tol : float, optional\n",
    "        The maximum tolerance in the computed Av and Rv values used to\n",
    "        determine convergence during the magnitude fits. Default is `0.05`.\n",
    "\n",
    "    init_thresh : bool, optional\n",
    "        The weight threshold used to mask out fits after the initial\n",
    "        magnitude-based fit before transforming the results back to\n",
    "        flux density (and iterating until convergence). Default is `5e-3`.\n",
    "\n",
    "    stepsize : float or `~numpy.ndarray`, optional\n",
    "        The stepsize (in units of the computed gradient). Default is `1.`.\n",
    "\n",
    "    mags : `~numpy.ndarray` of shape `(Nfilt)`, optional\n",
    "        Observed data values in magnitudes.\n",
    "\n",
    "    mags_var : `~numpy.ndarray` of shape `(Nmodel, Nfilt)`, optional\n",
    "        Associated (Normal) errors on the observed values compared to the\n",
    "        models in magnitudes.\n",
    "\n",
    "    Returns\n",
    "    -------\n",
    "    models_new : `~numpy.ndarray` of shape `(Nmodel, Nfilt)`\n",
    "        New model predictions. Always returned in flux densities.\n",
    "\n",
    "    rvecs_new : `~numpy.ndarray` of shape `(Nmodel, Nfilt)`\n",
    "        New reddening vectors. Always returned in flux densities.\n",
    "\n",
    "    drvecs_new : `~numpy.ndarray` of shape `(Nmodel, Nfilt)`\n",
    "        New differential reddening vectors. Always returned in flux densities.\n",
    "\n",
    "    scale : `~numpy.ndarray` of shape `(Nmodel)`, optional\n",
    "        The best-fit scale factor.\n",
    "\n",
    "    Av : `~numpy.ndarray` of shape `(Nmodel)`, optional\n",
    "        The best-fit reddening.\n",
    "\n",
    "    Rv : `~numpy.ndarray` of shape `(Nmodel)`, optional\n",
    "        The best-fit reddening shapes.\n",
    "\n",
    "    icov_sar : `~numpy.ndarray` of shape `(Nmodel, 3, 3)`, optional\n",
    "        The precision (inverse covariance) matrices expanded around\n",
    "        `(s_ML, Av_ML, Rv_ML)`.\n",
    "\n",
    "    resid : `~numpy.ndarray` of shape `(Nmodel, Nfilt)`\n",
    "        Residuals between the data and models.\n",
    "\n",
    "    \"\"\"\n",
    "\n",
    "    # Compute residuals.\n",
    "    if resid is None:\n",
    "        if mags is not None and mags_var is not None:\n",
    "            resid = mags - models\n",
    "        else:\n",
    "            resid = data - models\n",
    "\n",
    "    Av_mean, Av_std = av_gauss\n",
    "    Rv_mean, Rv_std = rv_gauss\n",
    "\n",
    "    if mags is not None and mags_var is not None:\n",
    "        # If magnitudes are provided, we can solve the linear system\n",
    "        # explicitly for `(s_ML, Av_ML, r_ML=Av_ML*Rv_ML)`. We opt to\n",
    "        # solve for Av and Rv in turn to so we can impose priors and bounds\n",
    "        # on both quantities.\n",
    "\n",
    "        # Compute constants.\n",
    "        s_den = np.sum(1. / mags_var, axis=1)\n",
    "        rp_den = np.sum(np.square(drvecs) / mags_var, axis=1)\n",
    "        srp_mix = np.sum(drvecs / mags_var, axis=1)\n",
    "\n",
    "        err = 1e300\n",
    "        while err > tol:\n",
    "            # Solve for Av.\n",
    "            # Derive partial derivatives.\n",
    "            a_den = np.sum(np.square(rvecs) / mags_var, axis=1)\n",
    "            sa_mix = np.sum(rvecs / mags_var, axis=1)\n",
    "            # Compute residual terms.\n",
    "            resid_s = np.sum(resid / mags_var, axis=1)\n",
    "            resid_a = np.sum(resid * rvecs / mags_var, axis=1)\n",
    "            # Add in Gaussian Av prior.\n",
    "            resid_a += (Av_mean - av) / Av_std**2\n",
    "            a_den += 1. / Av_std**2\n",
    "            # Compute determinants (normalization terms).\n",
    "            sa_idet = 1. / (s_den * a_den - sa_mix**2)\n",
    "            # Compute ML solution for Delta_Av.\n",
    "            dav = sa_idet * (s_den * resid_a - sa_mix * resid_s)\n",
    "\n",
    "            # Prevent Av from sliding off the provided bounds.\n",
    "            dav_low, dav_high = avlim[0] - av, avlim[1] - av\n",
    "            lsel, hsel = dav < dav_low, dav > dav_high\n",
    "            dav[lsel] = dav_low[lsel]\n",
    "            dav[hsel] = dav_high[hsel]\n",
    "\n",
    "            # Increment to new Av.\n",
    "            av += dav\n",
    "            # Update residuals.\n",
    "            resid -= dav[:, None] * rvecs  # update residuals\n",
    "\n",
    "            # Solve for Rv.\n",
    "            # Derive partial derivatives.\n",
    "            r_den = rp_den * av**2\n",
    "            sr_mix = srp_mix * av\n",
    "            # Compute residual terms.\n",
    "            resid_s = np.sum(resid / mags_var, axis=1)\n",
    "            resid_r = np.sum(resid * drvecs / mags_var, axis=1) * av\n",
    "            # Add in Gaussian Rv prior.\n",
    "            resid_r += (Rv_mean - rv) / Rv_std**2\n",
    "            r_den += 1. / Rv_std**2\n",
    "            # Compute determinants (normalization terms).\n",
    "            sr_idet = 1. / (s_den * r_den - sr_mix**2)\n",
    "            # Compute ML solution for Delta_Rv.\n",
    "            drv = sr_idet * (s_den * resid_r - sr_mix * resid_s)\n",
    "\n",
    "            # Prevent Rv from sliding off the provided bounds.\n",
    "            drv_low, drv_high = rvlim[0] - rv, rvlim[1] - rv\n",
    "            lsel, hsel = drv < drv_low, drv > drv_high\n",
    "            drv[lsel] = drv_low[lsel]\n",
    "            drv[hsel] = drv_high[hsel]\n",
    "\n",
    "            # Increment to new Rv.\n",
    "            rv += drv\n",
    "            # Update residuals.\n",
    "            resid -= (av * drv)[:, None] * drvecs\n",
    "            # Update reddening vector.\n",
    "            rvecs += drv[:, None] * drvecs\n",
    "\n",
    "            # Compute error based on best-fitting objects.\n",
    "            chi2 = np.sum(np.square(resid) / mags_var, axis=1)\n",
    "            logwt = -0.5 * chi2\n",
    "            init_sel = np.where(logwt > np.max(logwt) + np.log(init_thresh))[0]\n",
    "            err = np.max([np.abs(dav[init_sel]), np.abs(drv[init_sel])])\n",
    "    else:\n",
    "        # If our data is in flux densities, we can solve the linear system\n",
    "        # implicitly for `(s_ML, Av_ML, Rv_ML)`. However, the solution\n",
    "        # is not necessarily as numerically stable as one might hope\n",
    "        # due to the nature of our Taylor expansion in flux.\n",
    "        # Instead, it is easier to iterate in `(dAv, dRv)` from\n",
    "        # a good guess for `(s_ML, Av_ML, Rv_ML)`. We opt to solve both\n",
    "        # independently at fixed `(Av, Rv)` to avoid recomputing models.\n",
    "\n",
    "        # Derive ML Delta_Av (`dav`) between data and models.\n",
    "        a_num = np.sum(rvecs * resid / tot_var, axis=1)\n",
    "        a_den = np.sum(np.square(rvecs) / tot_var, axis=1)\n",
    "        a_num += (Av_mean - av) / Av_std**2  # add Av gaussian prior\n",
    "        a_den += 1. / Av_std**2  # add Av gaussian prior\n",
    "        dav = a_num / a_den\n",
    "        # Adjust dAv based on the provided stepsize.\n",
    "        dav *= stepsize\n",
    "\n",
    "        # Derive ML Delta_Rv (`drv`) between data and models.\n",
    "        r_num = np.sum(drvecs * resid / tot_var, axis=1)\n",
    "        r_den = np.sum(np.square(drvecs) / tot_var, axis=1)\n",
    "        r_num += (Rv_mean - rv) / Rv_std**2  # add Rv gaussian prior\n",
    "        r_den += 1. / Rv_std**2  # add Rv gaussian prior\n",
    "        drv = r_num / r_den\n",
    "        # Adjust dRv based on the provided stepsize.\n",
    "        drv *= stepsize\n",
    "\n",
    "        # Prevent Av from sliding off the provided bounds.\n",
    "        dav_low, dav_high = avlim[0] - av, avlim[1] - av\n",
    "        lsel, hsel = dav < dav_low, dav > dav_high\n",
    "        dav[lsel] = dav_low[lsel]\n",
    "        dav[hsel] = dav_high[hsel]\n",
    "        # Increment to new Av.\n",
    "        av += dav\n",
    "\n",
    "        # Prevent Rv from sliding off the provided bounds.\n",
    "        drv_low, drv_high = rvlim[0] - rv, rvlim[1] - rv\n",
    "        lsel, hsel = drv < drv_low, drv > drv_high\n",
    "        drv[lsel] = drv_low[lsel]\n",
    "        drv[hsel] = drv_high[hsel]\n",
    "        # Increment to new Rv.\n",
    "        rv += drv\n",
    "\n",
    "    # Recompute models with new Rv.\n",
    "    return mag_coeffs, av, rv\n",
    "#     models, rvecs, drvecs = brutus_get_seds(mag_coeffs, av=av, rv=rv,\n",
    "#                                      return_flux=True,\n",
    "#                                      return_rvec=True, return_drvec=True)"
   ]
  },
  {
   "cell_type": "code",
   "execution_count": 28,
   "metadata": {},
   "outputs": [],
   "source": [
    "mag_coeffs, av, rv = preprocess_get_seds(flux, tot_var, models, rvecs, drvecs, av_init, rv_init, mcoeffs,\n",
    "              tol=mtol, init_thresh=init_thresh,\n",
    "              resid=None, mags=mags, mags_var=mags_var,\n",
    "              avlim=avlim, av_gauss=av_gauss,\n",
    "              rvlim=rvlim, rv_gauss=rv_gauss);"
   ]
  },
  {
   "cell_type": "markdown",
   "metadata": {},
   "source": [
    "# Get SEDs testing"
   ]
  },
  {
   "cell_type": "code",
   "execution_count": 18,
   "metadata": {},
   "outputs": [],
   "source": [
    "from numba import jit"
   ]
  },
  {
   "cell_type": "code",
   "execution_count": 38,
   "metadata": {},
   "outputs": [],
   "source": [
    "def brutus_get_seds(mag_coeffs, av=None, rv=None, return_flux=False,\n",
    "             return_rvec=False, return_drvec=False):\n",
    "\n",
    "    t0 = time.time()\n",
    "    Nmodels, Nbands, Ncoef = mag_coeffs.shape\n",
    "    if av is None:\n",
    "        av = np.zeros(Nmodels)\n",
    "    # elif isinstance(av, (int, float)):\n",
    "    else:\n",
    "        av = np.full(Nmodels, av)\n",
    "    if rv is None:\n",
    "        rv = np.full(Nmodels, 3.3)\n",
    "    # elif isinstance(rv, (int, float)):\n",
    "    else:\n",
    "        rv = np.full(Nmodels, rv)\n",
    "    t1 = time.time()\n",
    "#     print('checkpoint 1:', t1-t0)\n",
    "        \n",
    "    t0 = time.time()\n",
    "    # Turn provided Av values into polynomial features.\n",
    "    mags = mag_coeffs[:, :, 0]\n",
    "    r0 = mag_coeffs[:, :, 1]\n",
    "    dr = mag_coeffs[:, :, 2]\n",
    "    t1 = time.time()\n",
    "#     print('checkpoint 2:', t1-t0)\n",
    "\n",
    "    # Compute SEDs.\n",
    "    t0 = time.time()\n",
    "    drvecs = np.array(dr)\n",
    "    rvecs = r0 + rv[:, None] * drvecs\n",
    "    seds = mags + av[:, None] * rvecs\n",
    "    t1 = time.time()\n",
    "#     print('checkpoint 3:', t1-t0)\n",
    "\n",
    "    # Convert to flux.\n",
    "    t0 = time.time()\n",
    "    if return_flux:\n",
    "        seds = 10**(-0.4 * seds)\n",
    "        if return_rvec:\n",
    "            rvecs *= -0.4 * np.log(10.) * seds\n",
    "        if return_drvec:\n",
    "            drvecs *= -0.4 * np.log(10.) * seds\n",
    "    t1 = time.time()\n",
    "#     print('checkpoint 4:', t1-t0)\n",
    "\n",
    "    if return_rvec and return_drvec:\n",
    "        return seds, rvecs, drvecs\n",
    "    elif return_rvec:\n",
    "        return seds, rvecs\n",
    "    elif return_drvec:\n",
    "        return seds, drvecs\n",
    "    else:\n",
    "        return seds"
   ]
  },
  {
   "cell_type": "code",
   "execution_count": 9,
   "metadata": {},
   "outputs": [],
   "source": [
    "import cProfile"
   ]
  },
  {
   "cell_type": "code",
   "execution_count": 30,
   "metadata": {},
   "outputs": [],
   "source": [
    "cProfile.run(\"brutus_get_seds(mag_coeffs, av=av, rv=rv,\\\n",
    "                                     return_flux=True,\\\n",
    "                                     return_rvec=True, return_drvec=True)\", \"profile_get_seds.dat\")"
   ]
  },
  {
   "cell_type": "code",
   "execution_count": 31,
   "metadata": {},
   "outputs": [],
   "source": [
    "import pstats\n",
    "from pstats import SortKey"
   ]
  },
  {
   "cell_type": "code",
   "execution_count": 32,
   "metadata": {},
   "outputs": [],
   "source": [
    "p = pstats.Stats('profile_get_seds.dat')\n",
    "# p.strip_dirs().sort_stats(-1).print_stats()"
   ]
  },
  {
   "cell_type": "code",
   "execution_count": 33,
   "metadata": {},
   "outputs": [
    {
     "name": "stdout",
     "output_type": "stream",
     "text": [
      "Sat May 16 18:25:13 2020    profile_get_seds.dat\n",
      "\n",
      "         17 function calls in 0.136 seconds\n",
      "\n",
      "   Ordered by: internal time\n",
      "\n",
      "   ncalls  tottime  percall  cumtime  percall filename:lineno(function)\n",
      "        1    0.120    0.120    0.132    0.132 <ipython-input-16-6cf079e37e2b>:1(brutus_get_seds)\n",
      "        3    0.009    0.003    0.009    0.003 {built-in method numpy.array}\n",
      "        1    0.004    0.004    0.136    0.136 <string>:1(<module>)\n",
      "        2    0.002    0.001    0.002    0.001 {built-in method numpy.core._multiarray_umath.implement_array_function}\n",
      "        2    0.001    0.000    0.006    0.003 /usr/local/lib/python3.7/site-packages/numpy/core/numeric.py:283(full)\n",
      "        1    0.000    0.000    0.136    0.136 {built-in method builtins.exec}\n",
      "        2    0.000    0.000    0.000    0.000 {built-in method numpy.empty}\n",
      "        2    0.000    0.000    0.002    0.001 <__array_function__ internals>:2(copyto)\n",
      "        1    0.000    0.000    0.000    0.000 {method 'disable' of '_lsprof.Profiler' objects}\n",
      "        2    0.000    0.000    0.000    0.000 /usr/local/lib/python3.7/site-packages/numpy/core/multiarray.py:1043(copyto)\n",
      "\n",
      "\n"
     ]
    },
    {
     "data": {
      "text/plain": [
       "<pstats.Stats at 0x14c7d9250>"
      ]
     },
     "execution_count": 33,
     "metadata": {},
     "output_type": "execute_result"
    }
   ],
   "source": [
    "p.sort_stats(SortKey.TIME).print_stats()"
   ]
  },
  {
   "cell_type": "code",
   "execution_count": 102,
   "metadata": {},
   "outputs": [],
   "source": [
    "def get_seds(mag_coeffs, av=None, rv=None, return_flux=False,\n",
    "             return_rvec=False, return_drvec=False):\n",
    "\n",
    "    t0 = time.time()\n",
    "#     mag_coeffs = np.array(mag_coeffs, order='F')\n",
    "    t1 = time.time()\n",
    "#     print('checkpoint 0:', t1-t0)\n",
    "    \n",
    "    t0 = time.time()\n",
    "    Nmodels, Nbands, Ncoef = mag_coeffs.shape\n",
    "    if av is None:\n",
    "        av = np.zeros(Nmodels)\n",
    "    # elif isinstance(av, (int, float)):\n",
    "    else:\n",
    "        av = np.full(Nmodels, av)\n",
    "    if rv is None:\n",
    "        rv = np.full(Nmodels, 3.3)\n",
    "    # elif isinstance(rv, (int, float)):\n",
    "    else:\n",
    "        rv = np.full(Nmodels, rv)\n",
    "    t1 = time.time()\n",
    "#     print('checkpoint 1:', t1-t0)\n",
    "        \n",
    "    t0 = time.time()\n",
    "    # Turn provided Av values into polynomial features.\n",
    "    mags = mag_coeffs[:, :, 0]\n",
    "    r0 = mag_coeffs[:, :, 1]\n",
    "    dr = mag_coeffs[:, :, 2]\n",
    "    t1 = time.time()\n",
    "#     print('checkpoint 2:', t1-t0)\n",
    "\n",
    "    # Compute SEDs.\n",
    "    t0 = time.time()\n",
    "    drvecs = np.asarray(dr)\n",
    "    rvecs = r0 + rv[:, None] * drvecs\n",
    "    seds = mags + av[:, None] * rvecs\n",
    "    t1 = time.time()\n",
    "#     print('checkpoint 3:', t1-t0)\n",
    "\n",
    "    # Convert to flux.\n",
    "    t0 = time.time()\n",
    "    if return_flux:\n",
    "#         seds = 10**(-0.4 * seds)\n",
    "        seds = np.power(10., -0.4 * seds)\n",
    "        if return_rvec:\n",
    "            rvecs *= -0.4 * np.log(10.) * seds\n",
    "        if return_drvec:\n",
    "            drvecs *= -0.4 * np.log(10.) * seds\n",
    "    t1 = time.time()\n",
    "#     print('checkpoint 4:', t1-t0)\n",
    "\n",
    "    if return_rvec and return_drvec:\n",
    "        return seds, rvecs, drvecs\n",
    "    elif return_rvec:\n",
    "        return seds, rvecs\n",
    "    elif return_drvec:\n",
    "        return seds, drvecs\n",
    "    else:\n",
    "        return seds"
   ]
  },
  {
   "cell_type": "code",
   "execution_count": 96,
   "metadata": {},
   "outputs": [
    {
     "name": "stdout",
     "output_type": "stream",
     "text": [
      "checkpoint 0: 0.06918191909790039\n"
     ]
    },
    {
     "name": "stderr",
     "output_type": "stream",
     "text": [
      "/usr/local/lib/python3.7/site-packages/ipykernel_launcher.py:48: RuntimeWarning: overflow encountered in multiply\n"
     ]
    }
   ],
   "source": [
    "seds, rvecs, dvecs = get_seds(mag_coeffs, av=av, rv=rv, return_flux=True, return_rvec=True, return_drvec=True)"
   ]
  },
  {
   "cell_type": "code",
   "execution_count": 81,
   "metadata": {},
   "outputs": [],
   "source": [
    "b_seds, b_rvecs, b_dvecs = brutus_get_seds(mag_coeffs, av=av, rv=rv, return_flux=True, return_rvec=True, return_drvec=True)"
   ]
  },
  {
   "cell_type": "code",
   "execution_count": 69,
   "metadata": {},
   "outputs": [
    {
     "name": "stdout",
     "output_type": "stream",
     "text": [
      "[5.56224275e-08 1.51321935e-07 3.48865669e-07 5.30686299e-07\n",
      " 5.73094703e-07] [5.56224275e-08 1.51321935e-07 3.48865669e-07 5.30686299e-07\n",
      " 5.73094703e-07]\n",
      "[-6.41885441e-08 -9.97080403e-08 -1.53466199e-07 -1.35366016e-07\n",
      " -9.03737318e-08] [-6.41885441e-08 -9.97080403e-08 -1.53466199e-07 -1.35366016e-07\n",
      " -9.03737318e-08]\n",
      "[-0. -0. -0. -0. -0.] [0. 0. 0. 0. 0.]\n"
     ]
    }
   ],
   "source": [
    "print(seds[0], b_seds[0])\n",
    "print(rvecs[0], b_rvecs[0])\n",
    "print(dvecs[0], b_dvecs[0])"
   ]
  },
  {
   "cell_type": "code",
   "execution_count": 40,
   "metadata": {},
   "outputs": [
    {
     "name": "stdout",
     "output_type": "stream",
     "text": [
      "136 ms ± 6.12 ms per loop (mean ± std. dev. of 7 runs, 10 loops each)\n"
     ]
    }
   ],
   "source": [
    "%%timeit\n",
    "brutus_get_seds(mag_coeffs, av=av, rv=rv, return_flux=True, return_rvec=True, return_drvec=True);"
   ]
  },
  {
   "cell_type": "code",
   "execution_count": 103,
   "metadata": {},
   "outputs": [
    {
     "name": "stderr",
     "output_type": "stream",
     "text": [
      "/usr/local/lib/python3.7/site-packages/ipykernel_launcher.py:48: RuntimeWarning: overflow encountered in multiply\n",
      "/usr/local/lib/python3.7/site-packages/ipykernel_launcher.py:36: RuntimeWarning: invalid value encountered in multiply\n"
     ]
    },
    {
     "name": "stdout",
     "output_type": "stream",
     "text": [
      "120 ms ± 2.19 ms per loop (mean ± std. dev. of 7 runs, 10 loops each)\n"
     ]
    }
   ],
   "source": [
    "%%timeit\n",
    "get_seds(mag_coeffs, av=av, rv=rv, return_flux=True, return_rvec=True, return_drvec=True);"
   ]
  },
  {
   "cell_type": "code",
   "execution_count": null,
   "metadata": {},
   "outputs": [],
   "source": [
    "cProfile.run(\"get_seds(mag_coeffs, av=av, rv=rv,\\\n",
    "                                     return_flux=True,\\\n",
    "                                     return_rvec=True, return_drvec=True)\", \"profile_get_seds_opt.dat\")"
   ]
  }
 ],
 "metadata": {
  "kernelspec": {
   "display_name": "Python 3",
   "language": "python",
   "name": "python3"
  },
  "language_info": {
   "codemirror_mode": {
    "name": "ipython",
    "version": 3
   },
   "file_extension": ".py",
   "mimetype": "text/x-python",
   "name": "python",
   "nbconvert_exporter": "python",
   "pygments_lexer": "ipython3",
   "version": "3.7.6"
  }
 },
 "nbformat": 4,
 "nbformat_minor": 4
}
