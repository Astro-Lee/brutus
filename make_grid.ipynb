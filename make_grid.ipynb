{
 "cells": [
  {
   "cell_type": "code",
   "execution_count": 1,
   "metadata": {
    "collapsed": true
   },
   "outputs": [],
   "source": [
    "from __future__ import print_function, division\n",
    "import sys\n",
    "import pickle\n",
    "import numpy as np\n",
    "import scipy\n",
    "import matplotlib\n",
    "from matplotlib import pyplot as plt\n",
    "from six.moves import range\n",
    "import time\n",
    "from scipy.special import logsumexp\n",
    "from scipy.stats import truncnorm\n",
    "\n",
    "# import frankenz code\n",
    "import frankenz as fz\n",
    "\n",
    "# plot in-line within the notebook\n",
    "%matplotlib inline\n",
    "\n",
    "np.random.seed(300418)"
   ]
  },
  {
   "cell_type": "code",
   "execution_count": 2,
   "metadata": {
    "collapsed": true
   },
   "outputs": [],
   "source": [
    "import brutus\n",
    "from brutus import seds"
   ]
  },
  {
   "cell_type": "code",
   "execution_count": 3,
   "metadata": {},
   "outputs": [
    {
     "name": "stderr",
     "output_type": "stream",
     "text": [
      "Filters: ['Gaia_G_DR2Rev', 'Gaia_BP_DR2Rev', 'Gaia_RP_DR2Rev', 'SDSS_u', 'SDSS_g', 'SDSS_r', 'SDSS_i', 'SDSS_z', 'PS_g', 'PS_r', 'PS_i', 'PS_z', 'PS_y', 'DECam_u', 'DECam_g', 'DECam_r', 'DECam_i', 'DECam_z', 'DECam_Y', 'Tycho_B', 'Tycho_V', 'Bessell_U', 'Bessell_B', 'Bessell_V', 'Bessell_R', 'Bessell_I', '2MASS_J', '2MASS_H', '2MASS_Ks', 'UKIDSS_Z', 'UKIDSS_Y', 'UKIDSS_J', 'UKIDSS_H', 'UKIDSS_K', 'WISE_W1', 'WISE_W2', 'WISE_W3', 'WISE_W4', 'GALEX_NUV', 'GALEX_FUV', 'Hipparcos_Hp', 'Kepler_D51', 'Kepler_Kp', 'TESS']\n",
      "Constructing MIST library...done!\n",
      "Computing age weights for track (mini, feh)=(300.0, 0.5)        \n",
      "Initializing FastNN predictor...done!\n"
     ]
    }
   ],
   "source": [
    "mist = seds.SEDmaker()  # all filters"
   ]
  },
  {
   "cell_type": "code",
   "execution_count": 4,
   "metadata": {},
   "outputs": [
    {
     "name": "stderr",
     "output_type": "stream",
     "text": [
      "Constructing grid 100.0% (620160/620160) "
     ]
    },
    {
     "name": "stdout",
     "output_type": "stream",
     "text": [
      "23256.4000762\n"
     ]
    },
    {
     "name": "stderr",
     "output_type": "stream",
     "text": [
      "\n"
     ]
    }
   ],
   "source": [
    "t1 = time.time()\n",
    "mist.make_grid()  # default settings\n",
    "t2 = time.time()\n",
    "print(t2-t1)"
   ]
  },
  {
   "cell_type": "code",
   "execution_count": 5,
   "metadata": {
    "collapsed": true
   },
   "outputs": [],
   "source": [
    "# dump results to disk\n",
    "import h5py, json\n",
    "grid_vers = 'v4'\n",
    "with h5py.File(\"data/grid_{}.h5\".format(grid_vers), \"w\") as out:\n",
    "    labels = out.create_dataset(\"labels\", data=mist.grid_label[mist.grid_sel])\n",
    "    pars = out.create_dataset(\"parameters\", data=mist.grid_param[mist.grid_sel])\n",
    "    seds = out.create_dataset(\"mag_coeffs\", data=mist.grid_sed[mist.grid_sel])"
   ]
  }
 ],
 "metadata": {
  "kernelspec": {
   "display_name": "Python 2",
   "language": "python",
   "name": "python2"
  },
  "language_info": {
   "codemirror_mode": {
    "name": "ipython",
    "version": 2
   },
   "file_extension": ".py",
   "mimetype": "text/x-python",
   "name": "python",
   "nbconvert_exporter": "python",
   "pygments_lexer": "ipython2",
   "version": "2.7.13"
  }
 },
 "nbformat": 4,
 "nbformat_minor": 2
}
